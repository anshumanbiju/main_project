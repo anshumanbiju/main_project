{
 "cells": [
  {
   "cell_type": "code",
   "execution_count": 1,
   "metadata": {},
   "outputs": [
    {
     "name": "stdout",
     "output_type": "stream",
     "text": [
      "WARNING:tensorflow:From c:\\Users\\anshu\\AppData\\Local\\Programs\\Python\\Python312\\Lib\\site-packages\\tf_keras\\src\\losses.py:2976: The name tf.losses.sparse_softmax_cross_entropy is deprecated. Please use tf.compat.v1.losses.sparse_softmax_cross_entropy instead.\n",
      "\n"
     ]
    },
    {
     "name": "stderr",
     "output_type": "stream",
     "text": [
      "c:\\Users\\anshu\\AppData\\Local\\Programs\\Python\\Python312\\Lib\\site-packages\\transformers\\tokenization_utils_base.py:1617: FutureWarning: `clean_up_tokenization_spaces` was not set. It will be set to `True` by default. This behavior will be deprecated in transformers v4.45, and will be then set to `False` by default. For more details check this issue: https://github.com/huggingface/transformers/issues/31884\n",
      "  warnings.warn(\n",
      "Some weights of Wav2Vec2ForCTC were not initialized from the model checkpoint at facebook/wav2vec2-base-960h and are newly initialized: ['wav2vec2.masked_spec_embed']\n",
      "You should probably TRAIN this model on a down-stream task to be able to use it for predictions and inference.\n",
      "c:\\Users\\anshu\\AppData\\Local\\Programs\\Python\\Python312\\Lib\\site-packages\\transformers\\training_args.py:1545: FutureWarning: `evaluation_strategy` is deprecated and will be removed in version 4.46 of 🤗 Transformers. Use `eval_strategy` instead\n",
      "  warnings.warn(\n"
     ]
    },
    {
     "data": {
      "application/vnd.jupyter.widget-view+json": {
       "model_id": "f433cdebbdef41da9f490de986b54191",
       "version_major": 2,
       "version_minor": 0
      },
      "text/plain": [
       "  0%|          | 0/5 [00:00<?, ?it/s]"
      ]
     },
     "metadata": {},
     "output_type": "display_data"
    },
    {
     "data": {
      "application/vnd.jupyter.widget-view+json": {
       "model_id": "437d78686f504fb3836eb7544f1fd501",
       "version_major": 2,
       "version_minor": 0
      },
      "text/plain": [
       "  0%|          | 0/2 [00:00<?, ?it/s]"
      ]
     },
     "metadata": {},
     "output_type": "display_data"
    },
    {
     "name": "stdout",
     "output_type": "stream",
     "text": [
      "{'eval_loss': 22.512197494506836, 'eval_runtime': 12.2282, 'eval_samples_per_second': 0.9, 'eval_steps_per_second': 0.164, 'epoch': 0.8}\n"
     ]
    },
    {
     "data": {
      "application/vnd.jupyter.widget-view+json": {
       "model_id": "8ba7620ae706456eaccd29c4b3ead2cc",
       "version_major": 2,
       "version_minor": 0
      },
      "text/plain": [
       "  0%|          | 0/2 [00:00<?, ?it/s]"
      ]
     },
     "metadata": {},
     "output_type": "display_data"
    },
    {
     "name": "stdout",
     "output_type": "stream",
     "text": [
      "{'eval_loss': 22.333463668823242, 'eval_runtime': 11.9506, 'eval_samples_per_second': 0.92, 'eval_steps_per_second': 0.167, 'epoch': 1.6}\n"
     ]
    },
    {
     "data": {
      "application/vnd.jupyter.widget-view+json": {
       "model_id": "52e1fa84827445e28af03129930e0282",
       "version_major": 2,
       "version_minor": 0
      },
      "text/plain": [
       "  0%|          | 0/2 [00:00<?, ?it/s]"
      ]
     },
     "metadata": {},
     "output_type": "display_data"
    },
    {
     "name": "stdout",
     "output_type": "stream",
     "text": [
      "{'eval_loss': 21.970046997070312, 'eval_runtime': 11.7796, 'eval_samples_per_second': 0.934, 'eval_steps_per_second': 0.17, 'epoch': 2.4}\n"
     ]
    },
    {
     "data": {
      "application/vnd.jupyter.widget-view+json": {
       "model_id": "3ed4550f307d4b9b826c8891d74f5177",
       "version_major": 2,
       "version_minor": 0
      },
      "text/plain": [
       "  0%|          | 0/2 [00:00<?, ?it/s]"
      ]
     },
     "metadata": {},
     "output_type": "display_data"
    },
    {
     "name": "stdout",
     "output_type": "stream",
     "text": [
      "{'eval_loss': 20.678682327270508, 'eval_runtime': 8.9318, 'eval_samples_per_second': 1.232, 'eval_steps_per_second': 0.224, 'epoch': 4.0}\n",
      "{'train_runtime': 183.7235, 'train_samples_per_second': 0.245, 'train_steps_per_second': 0.027, 'train_loss': 20.86092529296875, 'epoch': 4.0}\n"
     ]
    },
    {
     "data": {
      "text/plain": [
       "TrainOutput(global_step=5, training_loss=20.86092529296875, metrics={'train_runtime': 183.7235, 'train_samples_per_second': 0.245, 'train_steps_per_second': 0.027, 'total_flos': 2524220087163840.0, 'train_loss': 20.86092529296875, 'epoch': 4.0})"
      ]
     },
     "execution_count": 1,
     "metadata": {},
     "output_type": "execute_result"
    }
   ],
   "source": [
    "from datasets import load_dataset, Audio\n",
    "from transformers import Wav2Vec2Processor, Wav2Vec2ForCTC, Trainer, TrainingArguments\n",
    "import torch\n",
    "\n",
    "# Load dataset\n",
    "data_files = {\"train\": \"dataset.json\", \"test\": \"output.json\"}\n",
    "dataset = load_dataset(\"json\", data_files=data_files)\n",
    "\n",
    "# Prepare audio column\n",
    "dataset = dataset.cast_column(\"audio\", Audio(sampling_rate=16000))\n",
    "\n",
    "# Load pre-trained processor (using a smaller model)\n",
    "processor = Wav2Vec2Processor.from_pretrained(\"facebook/wav2vec2-base-960h\")\n",
    "\n",
    "# Preprocess function\n",
    "def preprocess_function(batch):\n",
    "    audio = batch[\"audio\"][\"array\"]\n",
    "    batch[\"input_values\"] = processor(audio, sampling_rate=16_000).input_values[0]\n",
    "    with processor.as_target_processor():\n",
    "        batch[\"labels\"] = processor(batch[\"text\"]).input_ids\n",
    "    return batch\n",
    "\n",
    "# Apply preprocessing\n",
    "encoded_dataset = dataset.map(preprocess_function, remove_columns=[\"audio\", \"text\"])\n",
    "\n",
    "# Load the smaller model\n",
    "model = Wav2Vec2ForCTC.from_pretrained(\n",
    "    \"facebook/wav2vec2-base-960h\",  # Use smaller model\n",
    "    ctc_loss_reduction=\"mean\",\n",
    "    pad_token_id=processor.tokenizer.pad_token_id,\n",
    ")\n",
    "\n",
    "# TrainingArguments (reduced batch size for low-end PC)\n",
    "# TrainingArguments with reduced save steps to limit frequent saving\n",
    "training_args = TrainingArguments(\n",
    "    output_dir=\"./asr-subtitle-model\",\n",
    "    evaluation_strategy=\"epoch\",\n",
    "    save_strategy=\"no\",  # Disable saving checkpoints\n",
    "    learning_rate=3e-4,\n",
    "    per_device_train_batch_size=2,\n",
    "    gradient_accumulation_steps=4,\n",
    "    num_train_epochs=5,\n",
    "    warmup_steps=100,\n",
    "    logging_dir=\"./logs\",\n",
    "    logging_steps=50,\n",
    "    save_total_limit=2,\n",
    "    fp16=True,\n",
    ")\n",
    "\n",
    "\n",
    "# Simple data collator function with padding\n",
    "def data_collator(features):\n",
    "    # Pad the input values (audio features) using the processor's feature_extractor\n",
    "    input_values = [f[\"input_values\"] for f in features]\n",
    "    labels = [f[\"labels\"] for f in features]\n",
    "    \n",
    "    # Pad both input values and labels correctly\n",
    "    input_values = processor.feature_extractor.pad({\"input_values\": input_values}, padding=True, return_tensors=\"pt\")\n",
    "    labels = processor.tokenizer.pad({\"input_ids\": labels}, padding=True, return_tensors=\"pt\")\n",
    "    \n",
    "    return {\"input_values\": input_values[\"input_values\"], \"labels\": labels[\"input_ids\"]}\n",
    "\n",
    "# Trainer setup\n",
    "trainer = Trainer(\n",
    "    model=model,\n",
    "    args=training_args,\n",
    "    data_collator=data_collator,\n",
    "    train_dataset=encoded_dataset[\"train\"],\n",
    "    eval_dataset=encoded_dataset[\"test\"],\n",
    "    tokenizer=processor.feature_extractor,\n",
    ")\n",
    "\n",
    "# Train the model\n",
    "trainer.train()\n"
   ]
  },
  {
   "cell_type": "code",
   "execution_count": 3,
   "metadata": {},
   "outputs": [
    {
     "name": "stdout",
     "output_type": "stream",
     "text": [
      "MoviePy - Writing audio in audio11.wav\n"
     ]
    },
    {
     "name": "stderr",
     "output_type": "stream",
     "text": [
      "                                                                      "
     ]
    },
    {
     "name": "stdout",
     "output_type": "stream",
     "text": [
      "MoviePy - Done.\n",
      "Audio successfully extracted and saved to: audio11.wav\n"
     ]
    },
    {
     "name": "stderr",
     "output_type": "stream",
     "text": [
      "\r"
     ]
    }
   ],
   "source": [
    "from moviepy.editor import VideoFileClip\n",
    "\n",
    "def extract_audio(video_path, output_audio_path):\n",
    "    try:\n",
    "        # Load the video file\n",
    "        video = VideoFileClip(video_path)\n",
    "        \n",
    "        # Extract the audio\n",
    "        audio = video.audio\n",
    "        \n",
    "        # Save the audio file\n",
    "        audio.write_audiofile(output_audio_path)\n",
    "        print(f\"Audio successfully extracted and saved to: {output_audio_path}\")\n",
    "    except Exception as e:\n",
    "        print(f\"An error occurred: {e}\")\n",
    "    finally:\n",
    "        # Close video and audio objects\n",
    "        if 'video' in locals():\n",
    "            video.close()\n",
    "        if 'audio' in locals() and audio is not None:\n",
    "            audio.close()\n",
    "\n",
    "# Example usage\n",
    "video_file = \"video2.mp4\"\n",
    "audio_file = \"audio11.wav\"\n",
    "extract_audio(video_file, audio_file)\n"
   ]
  },
  {
   "cell_type": "code",
   "execution_count": 2,
   "metadata": {},
   "outputs": [
    {
     "data": {
      "text/plain": [
       "[]"
      ]
     },
     "execution_count": 2,
     "metadata": {},
     "output_type": "execute_result"
    }
   ],
   "source": [
    "model.save_pretrained(\"./subtitle-generator\")\n",
    "processor.save_pretrained(\"./subtitle-generator\")"
   ]
  },
  {
   "cell_type": "code",
   "execution_count": 6,
   "metadata": {},
   "outputs": [
    {
     "name": "stdout",
     "output_type": "stream",
     "text": [
      "Transcript: HUMANS NEED LANGUAGE TO COMMUNICATE SO IT MAKES SENSE THAT A I DOES TOO A LARGE LANGUAGE MODEL OR ELLEM IS A TYPE OF A I ALGARITHM BASED ON DEEP LEARNING AND HUGE MOUNTS OF DATA THAT CAN UNDERSTAND GENERATE AND PREDICT NEW CONTENT LANGUAGE MODELS AREN'T NEW THE FIRST A I LINGUAGE MODEL CAN BE TRACED BACK TO NINETEEN SIXTY SIX BUT LARGE LINGUAGE MODELS USE A SIGNIFICANTLY LARGERPOOL OF DATA FOR TRAINING WHICH MEANS A SIGNIFICANT INCREASE IN TH CAPABILITIES OF THE A I MODEL ONE OF THE MOST COMMON APPLICATIONS OF L LEMS RIGHT NOW IS GENERATING CONTENT USING A I CHAPBOTS MORE AND MORE POPPING UP IN THE MARKET AS COMPETITORS LOOK TO DIFERENTIATE THEMSELVES CHECK OUT THE LING ABOVE OR THE DESCRIPTION BELOW TO SEE HOW TWO OF THE FRONT RUNNERS CHAT  B T AND BARRED COMPARE AND REMEMBERED A SUBSCRIBE TO I ONTAC FOR MORVIDIOS ON ALL THINGS BUSINESS TEC SO JUST HOW LARGE ARE LARGE LANGUAGE MODELS WELL THERE'S NO UNIVERSEALY ACCEPTED FIGURE FOR HOW LARGE AN L LE TRAINING DATA SAT IS BUT IT'S TYPICALLY IN THE PETABITES RAINGE FOR CONTECT A SINGLE PEDABITE IS A QUOVELENT TO ONE MILLION GAGABITES THE HUMAN BRAIN IS BELIEVE TO STORE ABOUT TWO AND A HALF PETABITES OF MEMORY DATA THE EL L TRAINING CONSISTS OF MULTIPLE STEPS USUALLY STARTING WITH UNSUPERVISED LEARNING HERE THE MODELS STARTS TO DERIVE RELATIONSHIPS BETWEEN WORDS AND CONCEPTS THEN FINE TUNED WITH SUPERVISED LEARNING THE TRAINING DATA THEN PASSES THROUGH TRANSFORMER WHICH ENABLES THE ELA LEM TO RECOGNIZE RELATIONSHIPS AND CONNECTIONS USING A SELF ATTENTION MECHANISM ONCE THE ELLEM IS TRAINED IT CAN SERVACE THE BASE FOR ANY A I USES EL LEMS CAN GENERATE TAXT TRANSLATE LANGUAGES SUMMARISE OR RERITE CONTENT ORGANIZE CONTENT ANALYZE SENTIMENT OF CONTENT LIKE HUMOR OR TONE AND CONVERSE NATURALLY WITH THE USER UNLIKE OLDER GENERATIONS OF A I CHAPOT TECHNOLOGIES EL LEMS CAN BE PARTICULARLY USEFUL AS A FOUNDATION FOR CUSTOMIZED USES FOR BOTH BUSINESSES AND INDIVIDUALS THEIR FAST ACCURATE FLEXIBLE IN EASY TO TRAIN HOWEVER USER SHOULD HEED CAUTION TOO EL LEMS COME WITH A NUMBER OF CHALLENGES LIKE THE COST OF DEPLOYMENT IN OPERATION BIAS DEPENDING ON WHAT DATA WAS TRAINED ON A I HALLUCINATIONS WHERE RESPOSS IS NOT BASED OFF OF THE TRAINING DATA TROUBLE TREET IND COMPLEXITY IN GLICH TOKENS OR WORDS ARE IMPUTS MALICIOUSLY DESIGNED TO MAKE THE L LEM MALFUNCTION HOW HAVE YOU USED ELA LES WHAT BENEFITS OR CHALLENGES OF UEXPERIENCE CHARRIOR THOUGHTS IN THE COMMENTS AND REMEMBERED A LIE CAN SUBSCRIBE\n"
     ]
    }
   ],
   "source": [
    "from transformers import pipeline\n",
    "\n",
    "# Load fine-tuned model and processor\n",
    "asr_pipeline = pipeline(\"automatic-speech-recognition\", model=\"./subtitle-generator\", tokenizer=processor)\n",
    "\n",
    "# Input audio file\n",
    "#  = \"E:\\main_project\\model_generation\\dataset\\wavs\\LJ001-0034.wav\"\n",
    "audio_path = \"audio.wav\"\n",
    "result = asr_pipeline(audio_path)\n",
    "transcript = result[\"text\"]\n",
    "\n",
    "print(\"Transcript:\", transcript)\n"
   ]
  },
  {
   "cell_type": "code",
   "execution_count": 5,
   "metadata": {},
   "outputs": [
    {
     "name": "stdout",
     "output_type": "stream",
     "text": [
      "Word Error Rate (WER): 42.20\n",
      "Character Error Rate (CER): 31.52\n"
     ]
    }
   ],
   "source": [
    "from jiwer import wer, cer\n",
    "\n",
    "# Ground truth and predicted transcripts\n",
    "ground_truth = \"This is the actual transcription.\"\n",
    "predicted = transcript\n",
    "\n",
    "# Calculate metrics\n",
    "word_error_rate = wer(ground_truth, predicted)\n",
    "char_error_rate = cer(ground_truth, predicted)\n",
    "\n",
    "print(f\"Word Error Rate (WER): {word_error_rate:.2f}\")\n",
    "print(f\"Character Error Rate (CER): {char_error_rate:.2f}\")"
   ]
  },
  {
   "cell_type": "code",
   "execution_count": 7,
   "metadata": {},
   "outputs": [
    {
     "data": {
      "image/png": "[encoded data removed]",
      "text/plain": [
       "<Figure size 800x500 with 2 Axes>"
      ]
     },
     "metadata": {},
     "output_type": "display_data"
    }
   ],
   "source": [
    "import seaborn as sns\n",
    "import numpy as np\n",
    "import matplotlib.pyplot as plt\n",
    "\n",
    "# Example data (rows: models, columns: different datasets)\n",
    "wer_matrix = np.array([\n",
    "    [0.15, 0.12, 0.18],  # Model A\n",
    "    [0.10, 0.09, 0.14],  # Model B\n",
    "    [0.20, 0.18, 0.22]   # Model C\n",
    "])\n",
    "\n",
    "# Create the heatmap\n",
    "plt.figure(figsize=(8, 5))\n",
    "sns.heatmap(wer_matrix, annot=True, cmap=\"Blues\", xticklabels=['Dataset 1', 'Dataset 2', 'Dataset 3'], yticklabels=['Model A', 'Model B', 'Model C'])\n",
    "\n",
    "# Adding titles and labels\n",
    "plt.title('WER Across Different Models and Datasets', fontsize=14)\n",
    "plt.xlabel('Datasets', fontsize=12)\n",
    "plt.ylabel('Models', fontsize=12)\n",
    "\n",
    "# Display the heatmap\n",
    "plt.tight_layout()\n",
    "plt.show()\n"
   ]
  }
 ],
 "metadata": {
  "kernelspec": {
   "display_name": "Python 3",
   "language": "python",
   "name": "python3"
  },
  "language_info": {
   "codemirror_mode": {
    "name": "ipython",
    "version": 3
   },
   "file_extension": ".py",
   "mimetype": "text/x-python",
   "name": "python",
   "nbconvert_exporter": "python",
   "pygments_lexer": "ipython3",
   "version": "3.12.3"
  }
 },
 "nbformat": 4,
 "nbformat_minor": 2
}
